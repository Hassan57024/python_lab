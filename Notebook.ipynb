{
  "nbformat": 4,
  "nbformat_minor": 0,
  "metadata": {
    "colab": {
      "provenance": []
    },
    "kernelspec": {
      "name": "python3",
      "display_name": "Python 3"
    },
    "language_info": {
      "name": "python"
    }
  },
  "cells": [
    {
      "cell_type": "code",
      "execution_count": null,
      "metadata": {
        "id": "gBISwuMqDKQl"
      },
      "outputs": [],
      "source": []
    },
    {
      "cell_type": "markdown",
      "source": [
        "# Integer"
      ],
      "metadata": {
        "id": "2pyo07NXEEhc"
      }
    },
    {
      "cell_type": "code",
      "source": [
        "birth = int(input(\"enter your birth year: \"))\n",
        "age = 2024 - birth\n",
        "print(\"your age is \", age)"
      ],
      "metadata": {
        "colab": {
          "base_uri": "https://localhost:8080/"
        },
        "id": "jTjCHvbrprLY",
        "outputId": "1e27479d-96f1-4365-9372-554105b020b1"
      },
      "execution_count": null,
      "outputs": [
        {
          "output_type": "stream",
          "name": "stdout",
          "text": [
            "enter your birth year: 1999\n",
            "your age is  25\n"
          ]
        }
      ]
    },
    {
      "cell_type": "markdown",
      "source": [
        "# Float\n"
      ],
      "metadata": {
        "id": "G8cx-pU-EfnE"
      }
    },
    {
      "cell_type": "code",
      "source": [
        "value_of_pi = float(3.14)\n",
        "print(value_of_pi)"
      ],
      "metadata": {
        "colab": {
          "base_uri": "https://localhost:8080/"
        },
        "id": "59R7mqtQFNNP",
        "outputId": "2596011a-c274-48bd-fb3c-3d3a6644b1e0"
      },
      "execution_count": 4,
      "outputs": [
        {
          "output_type": "stream",
          "name": "stdout",
          "text": [
            "3.14\n"
          ]
        }
      ]
    },
    {
      "cell_type": "markdown",
      "source": [
        "# Boolean"
      ],
      "metadata": {
        "id": "0oanp8HLGkPv"
      }
    },
    {
      "cell_type": "code",
      "source": [
        "toy_price = 500\n",
        "purchase_range = 350\n",
        "buy = toy_price > purchase_range\n",
        "print(\"you're not enable to buy\" , buy)"
      ],
      "metadata": {
        "colab": {
          "base_uri": "https://localhost:8080/"
        },
        "id": "R_HEQKEJGv5x",
        "outputId": "80a07813-1e34-45ad-f44f-5773296df70e"
      },
      "execution_count": 5,
      "outputs": [
        {
          "output_type": "stream",
          "name": "stdout",
          "text": [
            "you're not enable to buy True\n"
          ]
        }
      ]
    },
    {
      "cell_type": "markdown",
      "source": [
        "# Sting\n",
        "# indexing"
      ],
      "metadata": {
        "id": "DBL0xbZJIHOU"
      }
    },
    {
      "cell_type": "code",
      "source": [
        "name = 'Hassan'\n",
        "name[1 : 3]"
      ],
      "metadata": {
        "colab": {
          "base_uri": "https://localhost:8080/",
          "height": 35
        },
        "id": "S4f7O9NoIbNZ",
        "outputId": "41f4cbb0-0485-4eca-d733-5e9294560af7"
      },
      "execution_count": 12,
      "outputs": [
        {
          "output_type": "execute_result",
          "data": {
            "text/plain": [
              "'as'"
            ],
            "application/vnd.google.colaboratory.intrinsic+json": {
              "type": "string"
            }
          },
          "metadata": {},
          "execution_count": 12
        }
      ]
    },
    {
      "cell_type": "markdown",
      "source": [
        "# Slice\n"
      ],
      "metadata": {
        "id": "velHogiIJXQM"
      }
    },
    {
      "cell_type": "code",
      "source": [
        "email = \"hassan.123@gmail.com\"\n",
        "domain = email[3:6]\n",
        "print(domain)\n"
      ],
      "metadata": {
        "colab": {
          "base_uri": "https://localhost:8080/"
        },
        "id": "bFvZfyxUJfZU",
        "outputId": "da5db89d-3890-4c0b-956c-7bf72c62ce4f"
      },
      "execution_count": 13,
      "outputs": [
        {
          "output_type": "stream",
          "name": "stdout",
          "text": [
            "san\n"
          ]
        }
      ]
    },
    {
      "cell_type": "markdown",
      "source": [
        "# String Class Method"
      ],
      "metadata": {
        "id": "uxx4NZ9YMGxZ"
      }
    },
    {
      "cell_type": "code",
      "source": [
        "message = \" eid mubarak eid\"\n",
        "a=message.count(\"eid\")\n",
        "print(a)"
      ],
      "metadata": {
        "colab": {
          "base_uri": "https://localhost:8080/"
        },
        "id": "mRHCP5FPMKON",
        "outputId": "fec7f443-a4b8-4d38-f7b7-42f72930a628"
      },
      "execution_count": 14,
      "outputs": [
        {
          "output_type": "stream",
          "name": "stdout",
          "text": [
            "2\n"
          ]
        }
      ]
    },
    {
      "cell_type": "code",
      "source": [
        "message = \"happy birthday\"\n",
        "a=message.find(\"k\")\n",
        "print(a)"
      ],
      "metadata": {
        "colab": {
          "base_uri": "https://localhost:8080/"
        },
        "id": "gjffwWAiN8RA",
        "outputId": "9f059e85-1309-4cf8-a61c-fc102064b0ca"
      },
      "execution_count": 28,
      "outputs": [
        {
          "output_type": "stream",
          "name": "stdout",
          "text": [
            "-1\n"
          ]
        }
      ]
    },
    {
      "cell_type": "code",
      "source": [
        "message = \"happy birthday\"\n",
        "a=message.index(\"g\")\n",
        "print(a)"
      ],
      "metadata": {
        "colab": {
          "base_uri": "https://localhost:8080/",
          "height": 176
        },
        "outputId": "70f8f105-415b-460b-b8a6-246bb86ea672",
        "id": "Q896yRzWPqKs"
      },
      "execution_count": 23,
      "outputs": [
        {
          "output_type": "error",
          "ename": "ValueError",
          "evalue": "substring not found",
          "traceback": [
            "\u001b[0;31m---------------------------------------------------------------------------\u001b[0m",
            "\u001b[0;31mValueError\u001b[0m                                Traceback (most recent call last)",
            "\u001b[0;32m<ipython-input-23-eacb7604da10>\u001b[0m in \u001b[0;36m<cell line: 2>\u001b[0;34m()\u001b[0m\n\u001b[1;32m      1\u001b[0m \u001b[0mmessage\u001b[0m \u001b[0;34m=\u001b[0m \u001b[0;34m\"happy birthday\"\u001b[0m\u001b[0;34m\u001b[0m\u001b[0;34m\u001b[0m\u001b[0m\n\u001b[0;32m----> 2\u001b[0;31m \u001b[0ma\u001b[0m\u001b[0;34m=\u001b[0m\u001b[0mmessage\u001b[0m\u001b[0;34m.\u001b[0m\u001b[0mindex\u001b[0m\u001b[0;34m(\u001b[0m\u001b[0;34m\"g\"\u001b[0m\u001b[0;34m)\u001b[0m\u001b[0;34m\u001b[0m\u001b[0;34m\u001b[0m\u001b[0m\n\u001b[0m\u001b[1;32m      3\u001b[0m \u001b[0mprint\u001b[0m\u001b[0;34m(\u001b[0m\u001b[0ma\u001b[0m\u001b[0;34m)\u001b[0m\u001b[0;34m\u001b[0m\u001b[0;34m\u001b[0m\u001b[0m\n",
            "\u001b[0;31mValueError\u001b[0m: substring not found"
          ]
        }
      ]
    },
    {
      "cell_type": "code",
      "source": [
        "message = \" maryam is a good girl\"\n",
        "a=message.replace(\"maryam\" , \"kausar\")\n",
        "print(a)"
      ],
      "metadata": {
        "colab": {
          "base_uri": "https://localhost:8080/"
        },
        "outputId": "9be72ab6-c81c-4e20-9e0d-fd5c09a890c8",
        "id": "qoGKKONAQW_z"
      },
      "execution_count": 27,
      "outputs": [
        {
          "output_type": "stream",
          "name": "stdout",
          "text": [
            " kausar is a good girl\n"
          ]
        }
      ]
    },
    {
      "cell_type": "markdown",
      "source": [],
      "metadata": {
        "id": "sZs4S3hcJ9Ak"
      }
    }
  ]
}